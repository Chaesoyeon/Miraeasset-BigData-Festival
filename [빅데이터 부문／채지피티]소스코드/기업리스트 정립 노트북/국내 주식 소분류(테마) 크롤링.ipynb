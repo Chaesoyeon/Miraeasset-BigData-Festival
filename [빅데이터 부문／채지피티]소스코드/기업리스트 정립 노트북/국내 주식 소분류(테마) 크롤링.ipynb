{
 "cells": [
  {
   "cell_type": "code",
   "execution_count": 22,
   "id": "43122017",
   "metadata": {},
   "outputs": [],
   "source": [
    "# 필요 패키지 실행\n",
    "from selenium import webdriver\n",
    "from selenium.webdriver.chrome.service import Service\n",
    "from selenium.webdriver.common.by import By\n",
    "from selenium.webdriver.chrome.options import Options\n",
    "from webdriver_manager.chrome import ChromeDriverManager\n",
    "import time\n",
    "import pandas as pd\n",
    "import requests\n",
    "import bs4"
   ]
  },
  {
   "cell_type": "markdown",
   "id": "df949d7c",
   "metadata": {},
   "source": [
    "### 인포스탁 크롤링 진행"
   ]
  },
  {
   "cell_type": "code",
   "execution_count": 28,
   "id": "3d48ca87",
   "metadata": {},
   "outputs": [
    {
     "name": "stdout",
     "output_type": "stream",
     "text": [
      "                     소분류         기업\n",
      "0          2022 상반기 신규상장        오토앤\n",
      "1          2022 상반기 신규상장  DB금융스팩10호\n",
      "2          2022 상반기 신규상장     애드바이오텍\n",
      "3          2022 상반기 신규상장       케이옥션\n",
      "4          2022 상반기 신규상장   LG에너지솔루션\n",
      "...                  ...        ...\n",
      "5773  U-Healthcare(원격진료)       케어랩스\n",
      "5774  U-Healthcare(원격진료)      이지케어텍\n",
      "5775  U-Healthcare(원격진료)       네오펙트\n",
      "5776  U-Healthcare(원격진료)      제이엘케이\n",
      "5777  U-Healthcare(원격진료)    라이프시맨틱스\n",
      "\n",
      "[5778 rows x 2 columns]\n"
     ]
    }
   ],
   "source": [
    "import requests\n",
    "import bs4\n",
    "from selenium import webdriver\n",
    "from selenium.webdriver.chrome.service import Service\n",
    "from selenium.webdriver.common.by import By\n",
    "from selenium.webdriver.chrome.options import Options\n",
    "from webdriver_manager.chrome import ChromeDriverManager\n",
    "import time\n",
    "import pandas as pd\n",
    "\n",
    "# 국내 주식 소분류(테마)명 추출\n",
    "def scrape_text_elements(url):\n",
    "    response = requests.get(url).content.decode('cp949')\n",
    "    response = bs4.BeautifulSoup(response, 'html.parser')\n",
    "    target = response.find('tbody')\n",
    "    td_elements = target.find_all('td', class_='alL')\n",
    "    texts = [td.find('a').text for td in td_elements]\n",
    "    return texts\n",
    "\n",
    "def go_back(driver):\n",
    "    driver.back()\n",
    "\n",
    "# 소분류(테마)별 종목명 추출\n",
    "def extract_stock_names(driver, texts, theme_dic):\n",
    "    names = []\n",
    "    td_elements = driver.find_elements(By.CSS_SELECTOR, 'td.alL')\n",
    "    for td in td_elements:\n",
    "        a_tag = td.find_element(By.TAG_NAME, 'a')\n",
    "        time.sleep(2)\n",
    "        tm = a_tag.text\n",
    "        if tm in texts:\n",
    "            a_tag.click()\n",
    "            time.sleep(1)\n",
    "            contents_element = driver.find_element(By.ID, \"contents\")\n",
    "            tbody_element = contents_element.find_element(By.TAG_NAME, \"tbody\")\n",
    "            tr_elements = tbody_element.find_elements(By.TAG_NAME, \"tr\")\n",
    "            for tr_element in tr_elements:\n",
    "                style1_elements = tr_element.find_elements(By.CSS_SELECTOR, \"span.style1\")\n",
    "                for style1_element in style1_elements:\n",
    "                    a_elements = style1_element.find_elements(By.TAG_NAME, \"a\")\n",
    "                    if a_elements:\n",
    "                        for a_element in a_elements:\n",
    "                            name = a_element.text\n",
    "                            names.append(name)\n",
    "            theme_nm = tm.replace('◎', '').strip()\n",
    "            theme_dic[theme_nm] = names.copy()\n",
    "            time.sleep(1)\n",
    "            go_back(driver)\n",
    "            time.sleep(1)\n",
    "            names = []\n",
    "            \n",
    "#드라이버 실행\n",
    "def scrape_stock_names(url):\n",
    "    texts = scrape_text_elements(url)\n",
    "\n",
    "    driver = webdriver.Chrome(service=Service(ChromeDriverManager().install()))\n",
    "    driver.get(url)\n",
    "\n",
    "    theme_dic = {}\n",
    "\n",
    "    extract_stock_names(driver, texts, theme_dic)\n",
    "\n",
    "    driver.quit()\n",
    "\n",
    "    return theme_dic\n",
    "\n",
    "# Main program\n",
    "url = \"http://m.infostock.co.kr/sector/sector.asp?mode=n\"\n",
    "theme_dic = scrape_stock_names(url)\n",
    "\n",
    "theme = pd.DataFrame([(k, v) for k, values in theme_dic.items() for v in values], columns=['소분류', '기업'])\n",
    "\n",
    "print(theme)\n"
   ]
  },
  {
   "cell_type": "code",
   "execution_count": 27,
   "id": "f42c2e40",
   "metadata": {},
   "outputs": [],
   "source": [
    "theme.to_csv('국내 주식 소분류.csv', index = False, encoding = 'cp949')"
   ]
  }
 ],
 "metadata": {
  "kernelspec": {
   "display_name": "Python 3",
   "language": "python",
   "name": "python3"
  },
  "language_info": {
   "codemirror_mode": {
    "name": "ipython",
    "version": 3
   },
   "file_extension": ".py",
   "mimetype": "text/x-python",
   "name": "python",
   "nbconvert_exporter": "python",
   "pygments_lexer": "ipython3",
   "version": "3.8.8"
  }
 },
 "nbformat": 4,
 "nbformat_minor": 5
}
