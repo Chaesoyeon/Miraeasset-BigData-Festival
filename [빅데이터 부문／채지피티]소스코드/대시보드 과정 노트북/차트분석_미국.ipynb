{
 "cells": [
  {
   "cell_type": "code",
   "execution_count": 1,
   "id": "713cef56",
   "metadata": {},
   "outputs": [],
   "source": [
    "import boto3\n",
    "import pandas as pd\n",
    "from datetime import datetime, timedelta\n",
    "import os\n",
    "import io"
   ]
  },
  {
   "cell_type": "code",
   "execution_count": 14,
   "id": "bfcffc61",
   "metadata": {},
   "outputs": [],
   "source": [
    "service_name = 's3'\n",
    "endpoint_url = 'https://kr.object.ncloudstorage.com'\n",
    "access_key = 'cPKhn3d9z9ZWYMAPPwyq'\n",
    "secret_key = 'VFjEkpateO6VFGY0U9op073I4NXTlejMBMIq6FvA'\n",
    "bucket_name = 'bucket1chaegpt'"
   ]
  },
  {
   "cell_type": "markdown",
   "id": "2dff6af4",
   "metadata": {},
   "source": [
    "### 파일 가져오기"
   ]
  },
  {
   "cell_type": "code",
   "execution_count": 15,
   "id": "d76a830a",
   "metadata": {},
   "outputs": [
    {
     "data": {
      "text/plain": [
       "array(['AA', 'ACNT', 'ALB', ..., 'MOG.A', 'UHAL.B', 'CWEN.A'],\n",
       "      dtype=object)"
      ]
     },
     "execution_count": 15,
     "metadata": {},
     "output_type": "execute_result"
    }
   ],
   "source": [
    "usa_list = pd.read_csv('해외_산업분류(최종).csv')['Ticker'].unique()\n",
    "usa_list"
   ]
  },
  {
   "cell_type": "code",
   "execution_count": 16,
   "id": "b4f98487",
   "metadata": {},
   "outputs": [],
   "source": [
    "#클라우드에서 주가데이터 불러오기\n",
    "def download_stock_data(bucket_name, ticker, local_file_path):\n",
    "    s3 = boto3.client(service_name, endpoint_url=endpoint_url, aws_access_key_id=access_key,\n",
    "                      aws_secret_access_key=secret_key)\n",
    "    \n",
    "    file_name = f'{ticker}_주가데이터.xlsx'\n",
    "    object_name = f'usa_stock_crawling/{file_name}'\n",
    "\n",
    "    s3.download_file(bucket_name, object_name, local_file_path)"
   ]
  },
  {
   "cell_type": "code",
   "execution_count": 17,
   "id": "cc0b8e98",
   "metadata": {},
   "outputs": [],
   "source": [
    "# 6개월로 기간 줄이기\n",
    "def six_month(df):\n",
    "    df['Date'] = pd.to_datetime(df['Date'])\n",
    "    \n",
    "    recent_date = df['Date'].max()\n",
    "    \n",
    "    start_date = recent_date - pd.DateOffset(months = 6)\n",
    "    start_date = start_date.replace(microsecond = 0, nanosecond = 0)\n",
    "    \n",
    "    df = df[(df['Date'] >= start_date) & (df['Date'] <= recent_date)]\n",
    "    \n",
    "    return df"
   ]
  },
  {
   "cell_type": "code",
   "execution_count": 18,
   "id": "e71807d2",
   "metadata": {},
   "outputs": [],
   "source": [
    "#변동이 큰 구간 4개 추출하기(start_date, end_date, duration, change_average 계산)\n",
    "def process_dataframe(df):\n",
    "    selected_rows = []\n",
    "    consecutive_count_up = 0\n",
    "    consecutive_count_down = 0\n",
    "    start_date_up = None\n",
    "    start_date_down = None\n",
    "    change_sum_up = 0\n",
    "    change_sum_down = 0\n",
    "\n",
    "    for index, row in df.iterrows():\n",
    "        if row['Change'] >= 0:  # 양수에서 음수로 바뀐 경우\n",
    "            if consecutive_count_up == 0:\n",
    "                start_date_up = row['Date']  # 양수에서 음수로 바뀐 날짜 기록\n",
    "            consecutive_count_up += 1\n",
    "            change_sum_up += row['Change']\n",
    "        elif row['Change'] <= 0:  # 음수에서 양수로 바뀐 경우\n",
    "            if consecutive_count_up > 0:\n",
    "                # 이전 row의 값을 사용하여 'End Date' 설정\n",
    "                prev_row = df.loc[index - 1]\n",
    "                selected_rows.append({\n",
    "                    'Start Date': start_date_up,\n",
    "                    'End Date': prev_row['Date'],\n",
    "                    'Duration': consecutive_count_up,  # 바뀐 이후 다시 양수로 바뀌는 시점까지의 기간\n",
    "                    'Change Average': change_sum_up / (consecutive_count_up)  # Duration 동안의 Change 평균\n",
    "                })\n",
    "            consecutive_count_up = 0\n",
    "            change_sum_up = 0\n",
    "\n",
    "        if row['Change'] <= 0:  # 음수에서 양수로 바뀐 경우\n",
    "            if consecutive_count_down == 0:\n",
    "                start_date_down = row['Date']  # 음수에서 양수로 바뀐 날짜 기록\n",
    "            consecutive_count_down += 1\n",
    "            change_sum_down += row['Change']\n",
    "        elif row['Change'] >= 0:  # 양수에서 음수로 바뀐 경우\n",
    "            if consecutive_count_down > 0:\n",
    "                # 이전 row의 값을 사용하여 'End Date' 설정\n",
    "                prev_row = df.loc[index - 1]\n",
    "                selected_rows.append({\n",
    "                    'Start Date': start_date_down,\n",
    "                    'End Date': prev_row['Date'],\n",
    "                    'Duration': consecutive_count_down,  # 바뀐 이후 다시 음수로 바뀌는 시점까지의 기간\n",
    "                    'Change Average': change_sum_down / (consecutive_count_down)  # Duration 동안의 Change 평균\n",
    "                })\n",
    "            consecutive_count_down = 0\n",
    "            change_sum_down = 0\n",
    "\n",
    "    if selected_rows:\n",
    "        selected_df = pd.DataFrame(selected_rows)\n",
    "        selected_df = selected_df[selected_df['Duration'] > 1]\n",
    "        s_df = selected_df.copy()\n",
    "        sorted_index = s_df['Change Average'].abs().sort_values(ascending = False).index\n",
    "        sorted_selected_df = selected_df.loc[sorted_index].head(4)\n",
    "        return sorted_selected_df\n",
    "    else:\n",
    "        return pd.DataFrame()  # 빈 데이터프레임 반환"
   ]
  },
  {
   "cell_type": "code",
   "execution_count": 19,
   "id": "44d70dcc",
   "metadata": {},
   "outputs": [],
   "source": [
    "#클라우드에 업로드\n",
    "def upload(ticker, data, s3_client, bucket_name, endpoint_url, access_key, secret_key):\n",
    "\n",
    "    # 데이터프레임을 파일로 저장\n",
    "    xlsx_filename = f'{ticker}_차트분석.xlsx'\n",
    "    xlsx_buffer = io.BytesIO()\n",
    "    data.to_excel(xlsx_buffer, index = False)\n",
    "    xlsx_buffer.seek(0)\n",
    "\n",
    "    # xlsx 파일 클라우드 업로드\n",
    "    object_name = f'stock_chart_usa/{xlsx_filename}'\n",
    "    s3_client.upload_fileobj(xlsx_buffer, bucket_name, object_name)\n",
    "    print(f\"Uploaded {xlsx_filename} to S3\")"
   ]
  },
  {
   "cell_type": "code",
   "execution_count": 20,
   "id": "0b57c3ba",
   "metadata": {},
   "outputs": [],
   "source": [
    "for tick in usa_list:\n",
    "    file_path = f'C:/Users/pc/미래에셋/미국_주가데이터/{tick}_주가데이터.xlsx'\n",
    "    \n",
    "    # 데이터 가져오기\n",
    "    download_stock_data(bucket_name, tick, file_path)\n",
    "    \n",
    "    # 데이터프레임으로 읽어오기\n",
    "    st_data = pd.read_excel(file_path)\n",
    "    \n",
    "    result_df = process_dataframe(st_data)\n",
    "    result_df['Ticker'] = tick\n",
    "    \n",
    "    # 파일 삭제\n",
    "    if os.path.exists(file_path):\n",
    "        os.remove(file_path)\n",
    "    else :\n",
    "        print(f\"파일이 존재하지 않습니다: {file_path}\")\n",
    "        \n",
    "    # AWS S3 클라이언트 생성\n",
    "    s3 = boto3.client(service_name, endpoint_url=endpoint_url, aws_access_key_id=access_key,\n",
    "                      aws_secret_access_key=secret_key)\n",
    "\n",
    "    # 클라우드 폴더 생성\n",
    "    object_name = 'stock_chart_usa/'\n",
    "    s3.put_object(Bucket=bucket_name, Key=object_name)\n",
    "\n",
    "    # 주가 데이터 수집 및 파일로 저장\n",
    "    upload(tick, result_df, s3, bucket_name, endpoint_url, access_key, secret_key)"
   ]
  },
  {
   "cell_type": "code",
   "execution_count": null,
   "id": "adda236a",
   "metadata": {},
   "outputs": [],
   "source": []
  }
 ],
 "metadata": {
  "kernelspec": {
   "display_name": "Python 3",
   "language": "python",
   "name": "python3"
  },
  "language_info": {
   "codemirror_mode": {
    "name": "ipython",
    "version": 3
   },
   "file_extension": ".py",
   "mimetype": "text/x-python",
   "name": "python",
   "nbconvert_exporter": "python",
   "pygments_lexer": "ipython3",
   "version": "3.8.8"
  }
 },
 "nbformat": 4,
 "nbformat_minor": 5
}
