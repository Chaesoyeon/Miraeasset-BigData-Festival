{
 "cells": [
  {
   "cell_type": "code",
   "execution_count": 14,
   "id": "3d8223ed",
   "metadata": {},
   "outputs": [],
   "source": [
    "import pandas as pd\n",
    "from datetime import datetime, timedelta\n",
    "import boto3\n",
    "import os\n",
    "import io"
   ]
  },
  {
   "cell_type": "code",
   "execution_count": 7,
   "id": "6e3195fe",
   "metadata": {},
   "outputs": [],
   "source": [
    "service_name = 's3'\n",
    "endpoint_url = 'https://kr.object.ncloudstorage.com'\n",
    "access_key = ' '\n",
    "secret_key = ' '\n",
    "bucket_name = 'bucket1chaegpt'"
   ]
  },
  {
   "cell_type": "markdown",
   "id": "0be6dee9",
   "metadata": {},
   "source": [
    "### 파일 가져오기"
   ]
  },
  {
   "cell_type": "code",
   "execution_count": 2,
   "id": "0e2f0afd",
   "metadata": {},
   "outputs": [
    {
     "data": {
      "text/plain": [
       "array(['탑머티리얼', '삼성전자', 'SK하이닉스', ..., '테고사이언스', 'HLB생명과학', '바이오솔루션'],\n",
       "      dtype=object)"
      ]
     },
     "execution_count": 2,
     "metadata": {},
     "output_type": "execute_result"
    }
   ],
   "source": [
    "kr_list = pd.read_csv('국내_산업분류(최종).csv', encoding = 'cp949')['기업'].unique()\n",
    "kr_list"
   ]
  },
  {
   "cell_type": "code",
   "execution_count": 3,
   "id": "07ac08a3",
   "metadata": {},
   "outputs": [],
   "source": [
    "#주가 데이터 클라우드에서 불러오기\n",
    "def download_stock_data(bucket_name, company_name, local_file_path):\n",
    "    s3 = boto3.client(service_name, endpoint_url=endpoint_url, aws_access_key_id=access_key,\n",
    "                      aws_secret_access_key=secret_key)\n",
    "    \n",
    "    file_name = f'{company}_주가데이터.xlsx'\n",
    "    object_name = f'kr_stock_crawling/{file_name}'\n",
    "\n",
    "    s3.download_file(bucket_name, object_name, local_file_path)"
   ]
  },
  {
   "cell_type": "code",
   "execution_count": 4,
   "id": "24472b80",
   "metadata": {},
   "outputs": [],
   "source": [
    "#평균 등략률 계산하기 (3개월)\n",
    "def average_change(data):\n",
    "    today = datetime.today()\n",
    "    \n",
    "    one_month = data[(today - data['Date']).dt.days <= 30]['Change'].mean()\n",
    "    two_month = data[(today - data['Date']).dt.days <= 60]['Change'].mean()\n",
    "    three_month = data[(today - data['Date']).dt.days <= 90]['Change'].mean()\n",
    "\n",
    "    result_df = pd.DataFrame({'기간' : ['1개월', '2개월', '3개월'],\n",
    "                              '평균 등락률' : [one_month, two_month, three_month]})\n",
    "    \n",
    "    return result_df"
   ]
  },
  {
   "cell_type": "code",
   "execution_count": 5,
   "id": "13d995eb",
   "metadata": {},
   "outputs": [],
   "source": [
    "#클라우드에 업로드\n",
    "def upload(company_name, data, s3_client, bucket_name, endpoint_url, access_key, secret_key):\n",
    "\n",
    "    # 데이터프레임을 파일로 저장\n",
    "    xlsx_filename = f'{company_name}_평균등락률.xlsx'\n",
    "    xlsx_buffer = io.BytesIO()\n",
    "    data.to_excel(xlsx_buffer, index = False)\n",
    "    xlsx_buffer.seek(0)\n",
    "\n",
    "    # xlsx 파일 클라우드 업로드\n",
    "    object_name = f'change_average_kr/{xlsx_filename}'\n",
    "    s3_client.upload_fileobj(xlsx_buffer, bucket_name, object_name)\n",
    "    print(f\"Uploaded {xlsx_filename} to S3\")"
   ]
  },
  {
   "cell_type": "code",
   "execution_count": 15,
   "id": "74cb3381",
   "metadata": {},
   "outputs": [
    {
     "name": "stdout",
     "output_type": "stream",
     "text": [
      "Uploaded 탑머티리얼_차트분석.xlsx to S3\n"
     ]
    }
   ],
   "source": [
    "for company in kr_list:\n",
    "    file_path = f'C:/Users/pc/미래에셋/국내_주가데이터/{company}_주가데이터.xlsx'\n",
    "    \n",
    "    # 데이터 가져오기\n",
    "    download_stock_data(bucket_name, company, file_path)\n",
    "    \n",
    "    # 데이터프레임으로 읽어오기\n",
    "    st_data = pd.read_excel(file_path)\n",
    "    \n",
    "    result_df = average_change(st_data)\n",
    "    result_df['Company'] = company\n",
    "    \n",
    "    # 파일 삭제\n",
    "    if os.path.exists(file_path):\n",
    "        os.remove(file_path)\n",
    "    else :\n",
    "        print(f\"파일이 존재하지 않습니다: {file_path}\")\n",
    "        \n",
    "    # AWS S3 클라이언트 생성\n",
    "    s3 = boto3.client(service_name, endpoint_url=endpoint_url, aws_access_key_id=access_key,\n",
    "                      aws_secret_access_key=secret_key)\n",
    "\n",
    "    # 클라우드 폴더 생성\n",
    "    object_name = 'change_average_kr/'\n",
    "    s3.put_object(Bucket=bucket_name, Key=object_name)\n",
    "\n",
    "    # 주가 데이터 수집 및 파일로 저장\n",
    "    upload(company, result_df, s3, bucket_name, endpoint_url, access_key, secret_key)"
   ]
  },
  {
   "cell_type": "code",
   "execution_count": null,
   "id": "f6c57cc0",
   "metadata": {},
   "outputs": [],
   "source": []
  }
 ],
 "metadata": {
  "kernelspec": {
   "display_name": "Python 3",
   "language": "python",
   "name": "python3"
  },
  "language_info": {
   "codemirror_mode": {
    "name": "ipython",
    "version": 3
   },
   "file_extension": ".py",
   "mimetype": "text/x-python",
   "name": "python",
   "nbconvert_exporter": "python",
   "pygments_lexer": "ipython3",
   "version": "3.8.8"
  }
 },
 "nbformat": 4,
 "nbformat_minor": 5
}
